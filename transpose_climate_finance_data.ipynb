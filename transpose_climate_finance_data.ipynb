import pandas as pd

data2 = pd.melt(data1,
    id_vars=['CTS_ID', 'Counterpart_Country_ID', 'Counterpart_Country_Trade_ID',
             'Country_ID', 'Indicator', 'Indicator_ID', 'Principal Currency',
             'Scale', 'Source', 'Type of Issuer', 'Unit_ID', 'Use of Proceed', 'id'],
    value_vars=['1985', '1986', '1987', '1990', '1991', '1992', '1993', '1994', '1995',
                '1996', '1997', '1998', '1999', '2000', '2001', '2002', '2003', '2004',
                '2005', '2006', '2007', '2008', '2009', '2010', '2011', '2012', '2013',
                '2014', '2015', '2016', '2017', '2018', '2019', '2020', '2021', '2022',
                '2023', '2024', '2025', '2026', '2027', '2028', '2029', '2030'],
    var_name='years',
    value_name='year_value'
)
