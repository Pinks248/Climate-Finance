{
  "nbformat": 4,
  "nbformat_minor": 0,
  "metadata": {
    "colab": {
      "provenance": []
    },
    "kernelspec": {
      "name": "python3",
      "display_name": "Python 3"
    },
    "language_info": {
      "name": "python"
    }
  },
  "cells": [
    {
      "cell_type": "code",
      "execution_count": null,
      "metadata": {
        "id": "oIp5aNa2YX9p"
      },
      "outputs": [],
      "source": [
        "# impoting necessary library\n",
        "import pandas as pd\n",
        "import numpy as np"
      ]
    },
    {
      "cell_type": "code",
      "source": [
        "# To mount the drive\n",
        "from google.colab import drive\n",
        "drive.mount('/content/drive')"
      ],
      "metadata": {
        "colab": {
          "base_uri": "https://localhost:8080/"
        },
        "id": "TujV5VkJYwzC",
        "outputId": "80a3ee05-41eb-4471-b5e2-a8d73f19e440"
      },
      "execution_count": null,
      "outputs": [
        {
          "output_type": "stream",
          "name": "stdout",
          "text": [
            "Mounted at /content/drive\n"
          ]
        }
      ]
    },
    {
      "cell_type": "code",
      "source": [
        "import os"
      ],
      "metadata": {
        "id": "kF80VeqItbK3"
      },
      "execution_count": null,
      "outputs": []
    },
    {
      "cell_type": "code",
      "source": [
        "# Reading the csv file\n",
        "path=\"/content/drive/MyDrive/imf_data/\"\n",
        "files=os.listdir(path)\n",
        "file_list=[f for f in files if os.path.isfile(os.path.join(path,f))]"
      ],
      "metadata": {
        "id": "t9925nRjtdvJ"
      },
      "execution_count": null,
      "outputs": []
    },
    {
      "cell_type": "markdown",
      "source": [
        "** FILE LIST: **\n",
        "\n",
        "['01_Quarterly_Greenhouse_Gas_GHG_Air_Emissions_Accounts.csv',\n",
        " '00_Indicators_Summary.csv',\n",
        " '02_Annual_Greenhouse_Gas_GHG_Air_Emissions_Accounts.csv',\n",
        " '05_CO2_Emissions_embodied_in_Domestic_Final_Demand_Production_and_Trade.csv',\n",
        " '04_CO2_Emissions_Emissions_Intensities_and_Emissions_Multipliers.csv',\n",
        " '03_National_Greenhouse_Gas_Emissions_Inventories_and_Implied_National_Mitigation_Nationally_Determined_Contributions_Targets.csv',\n",
        " '11_Trade_in_Low_Carbon_Technology_Products.csv',\n",
        " '21_Green_Bonds.csv',\n",
        " '23_Annual_Surface_Temperature_Change.csv',\n",
        " '22_Carbon_Footprint_of_Bank_Loans.csv',\n",
        " '24_Atmospheric_CO2_Concentrations.csv',\n",
        " '07_Environmental_Taxes.csv',\n",
        " '06_Direct_Investment-related_Indicators.csv',\n",
        " '09_Fossil_Fuel_Subsidies.csv',\n",
        " '08_Environmental_Protection_Expenditures.csv',\n",
        " '12_Bilateral_Trade_in_Low_Carbon_Technology_Products.csv',\n",
        " '15_Climate-driven_INFORM_Risk.csv',\n",
        " '20_RevenuesAssets_at_Risk_in_Disclosing_Firms.csv',\n",
        " '19_Carbon_Tax_to_RevenuesAssets_in_Disclosing_Firms.csv',\n",
        " '14_Climate-related_Disasters_Frequency.csv',\n",
        " '25_Change_in_Mean_Sea_Levels.csv',\n",
        " '18_NGFS_GDP_Losses_and_Benefits.csv',\n",
        " '13_Forest_and_Carbon.csv',\n",
        " '16_IMF-Adapted_ND-GAIN_Index.csv',\n",
        " '26_Land_Cover_Accounts.csv',\n",
        " '10_Renewable_Energy.csv',\n",
        " '17_NGFS_Transition_Pathways.csv']"
      ],
      "metadata": {
        "id": "Jzky2DgjWUVL"
      }
    },
    {
      "cell_type": "code",
      "source": [
        "Environmental_Taxes['ISO2', 'ISO3','CTS Name'].unique()#Indicator_ID, Indicator"
      ],
      "metadata": {
        "colab": {
          "base_uri": "https://localhost:8080/"
        },
        "id": "a_3Ed9HUvZIN",
        "outputId": "335d8bfc-b0a1-4c63-86e3-29b213cf766c"
      },
      "execution_count": null,
      "outputs": [
        {
          "output_type": "execute_result",
          "data": {
            "text/plain": [
              "array(['Environmental Taxes',\n",
              "       'Taxes on Energy (Including Fuel for Transport)',\n",
              "       'Taxes on Pollution', 'Taxes on Resources',\n",
              "       'Taxes on Transport (Excluding Fuel for Transport)'], dtype=object)"
            ]
          },
          "metadata": {},
          "execution_count": 27
        }
      ]
    },
    {
      "cell_type": "code",
      "source": [
        "Environmental_Taxes.describe()"
      ],
      "metadata": {
        "colab": {
          "base_uri": "https://localhost:8080/",
          "height": 346
        },
        "id": "B6SxMrf7ecWV",
        "outputId": "6e7fce3a-ba16-40ad-aa81-53fa1d68f385"
      },
      "execution_count": null,
      "outputs": [
        {
          "output_type": "execute_result",
          "data": {
            "text/plain": [
              "               1995          1996          1997          1998          1999  \\\n",
              "count  7.440000e+02  7.480000e+02  7.480000e+02  7.560000e+02  7.580000e+02   \n",
              "mean   4.660734e+10  5.406942e+10  5.902429e+10  5.982012e+10  6.362630e+10   \n",
              "std    5.207829e+11  6.062627e+11  6.687402e+11  6.858402e+11  7.425599e+11   \n",
              "min    0.000000e+00  0.000000e+00  0.000000e+00  0.000000e+00  0.000000e+00   \n",
              "25%    0.000000e+00  0.000000e+00  0.000000e+00  0.000000e+00  0.000000e+00   \n",
              "50%    6.500000e-02  1.050000e-01  1.400000e-01  1.850000e-01  1.850000e-01   \n",
              "75%    2.400000e+06  9.327500e+06  1.863750e+07  2.573000e+07  3.180000e+07   \n",
              "max    8.467700e+12  1.033477e+13  1.212289e+13  1.246584e+13  1.381614e+13   \n",
              "\n",
              "               2000          2001          2002          2003          2004  \\\n",
              "count  8.080000e+02  8.240000e+02  8.280000e+02  8.360000e+02  8.360000e+02   \n",
              "mean   6.569532e+10  7.264611e+10  7.297869e+10  8.470369e+10  8.765305e+10   \n",
              "std    8.037306e+11  9.202632e+11  9.226889e+11  9.959190e+11  1.026459e+12   \n",
              "min    0.000000e+00  0.000000e+00  0.000000e+00  0.000000e+00  0.000000e+00   \n",
              "25%    0.000000e+00  0.000000e+00  0.000000e+00  0.000000e+00  0.000000e+00   \n",
              "50%    3.000000e-01  4.450000e-01  5.100000e-01  5.350000e-01  5.400000e-01   \n",
              "75%    6.854000e+07  8.701000e+07  1.130800e+08  1.446575e+08  1.443275e+08   \n",
              "max    1.596442e+13  1.888470e+13  1.909994e+13  2.061008e+13  2.103882e+13   \n",
              "\n",
              "       ...          2012          2013          2014          2015  \\\n",
              "count  ...  9.320000e+02  9.300000e+02  9.340000e+02  1.195000e+03   \n",
              "mean   ...  1.428156e+11  1.412383e+11  1.476702e+11  1.128900e+11   \n",
              "std    ...  1.735394e+12  1.716176e+12  1.797706e+12  1.276614e+12   \n",
              "min    ... -2.030843e+11 -8.599620e+10 -1.284680e+10  0.000000e+00   \n",
              "25%    ...  0.000000e+00  0.000000e+00  0.000000e+00  0.000000e+00   \n",
              "50%    ...  8.050000e-01  8.050000e-01  8.750000e-01  1.040000e+00   \n",
              "75%    ...  5.027125e+08  5.467175e+08  5.726250e+08  6.910000e+08   \n",
              "max    ...  3.930960e+13  3.912833e+13  4.158797e+13  2.702000e+13   \n",
              "\n",
              "               2016          2017          2018          2019          2020  \\\n",
              "count  1.193000e+03  1.189000e+03  1.171000e+03  1.139000e+03  1.047000e+03   \n",
              "mean   1.451120e+11  1.336839e+11  1.431637e+11  1.759476e+11  1.783135e+11   \n",
              "std    1.912413e+12  1.883467e+12  1.996719e+12  2.684028e+12  2.689141e+12   \n",
              "min    0.000000e+00  0.000000e+00  0.000000e+00  0.000000e+00  0.000000e+00   \n",
              "25%    0.000000e+00  0.000000e+00  6.219869e-04  4.563496e-04  0.000000e+00   \n",
              "50%    1.030000e+00  1.040000e+00  1.140000e+00  1.122445e+00  9.800000e-01   \n",
              "75%    7.365678e+08  8.070000e+08  8.745751e+08  8.882923e+08  7.553800e+08   \n",
              "max    4.363200e+13  4.466600e+13  4.705000e+13  6.307460e+13  6.063100e+13   \n",
              "\n",
              "               2021  \n",
              "count  6.600000e+02  \n",
              "mean   4.231766e+10  \n",
              "std    3.623077e+11  \n",
              "min    0.000000e+00  \n",
              "25%    0.000000e+00  \n",
              "50%    4.700000e-01  \n",
              "75%    1.513400e+08  \n",
              "max    6.864347e+12  \n",
              "\n",
              "[8 rows x 27 columns]"
            ],
            "text/html": [
              "\n",
              "  <div id=\"df-8b009de1-2d2b-4a25-9211-e2b38e9e3267\" class=\"colab-df-container\">\n",
              "    <div>\n",
              "<style scoped>\n",
              "    .dataframe tbody tr th:only-of-type {\n",
              "        vertical-align: middle;\n",
              "    }\n",
              "\n",
              "    .dataframe tbody tr th {\n",
              "        vertical-align: top;\n",
              "    }\n",
              "\n",
              "    .dataframe thead th {\n",
              "        text-align: right;\n",
              "    }\n",
              "</style>\n",
              "<table border=\"1\" class=\"dataframe\">\n",
              "  <thead>\n",
              "    <tr style=\"text-align: right;\">\n",
              "      <th></th>\n",
              "      <th>1995</th>\n",
              "      <th>1996</th>\n",
              "      <th>1997</th>\n",
              "      <th>1998</th>\n",
              "      <th>1999</th>\n",
              "      <th>2000</th>\n",
              "      <th>2001</th>\n",
              "      <th>2002</th>\n",
              "      <th>2003</th>\n",
              "      <th>2004</th>\n",
              "      <th>...</th>\n",
              "      <th>2012</th>\n",
              "      <th>2013</th>\n",
              "      <th>2014</th>\n",
              "      <th>2015</th>\n",
              "      <th>2016</th>\n",
              "      <th>2017</th>\n",
              "      <th>2018</th>\n",
              "      <th>2019</th>\n",
              "      <th>2020</th>\n",
              "      <th>2021</th>\n",
              "    </tr>\n",
              "  </thead>\n",
              "  <tbody>\n",
              "    <tr>\n",
              "      <th>count</th>\n",
              "      <td>7.440000e+02</td>\n",
              "      <td>7.480000e+02</td>\n",
              "      <td>7.480000e+02</td>\n",
              "      <td>7.560000e+02</td>\n",
              "      <td>7.580000e+02</td>\n",
              "      <td>8.080000e+02</td>\n",
              "      <td>8.240000e+02</td>\n",
              "      <td>8.280000e+02</td>\n",
              "      <td>8.360000e+02</td>\n",
              "      <td>8.360000e+02</td>\n",
              "      <td>...</td>\n",
              "      <td>9.320000e+02</td>\n",
              "      <td>9.300000e+02</td>\n",
              "      <td>9.340000e+02</td>\n",
              "      <td>1.195000e+03</td>\n",
              "      <td>1.193000e+03</td>\n",
              "      <td>1.189000e+03</td>\n",
              "      <td>1.171000e+03</td>\n",
              "      <td>1.139000e+03</td>\n",
              "      <td>1.047000e+03</td>\n",
              "      <td>6.600000e+02</td>\n",
              "    </tr>\n",
              "    <tr>\n",
              "      <th>mean</th>\n",
              "      <td>4.660734e+10</td>\n",
              "      <td>5.406942e+10</td>\n",
              "      <td>5.902429e+10</td>\n",
              "      <td>5.982012e+10</td>\n",
              "      <td>6.362630e+10</td>\n",
              "      <td>6.569532e+10</td>\n",
              "      <td>7.264611e+10</td>\n",
              "      <td>7.297869e+10</td>\n",
              "      <td>8.470369e+10</td>\n",
              "      <td>8.765305e+10</td>\n",
              "      <td>...</td>\n",
              "      <td>1.428156e+11</td>\n",
              "      <td>1.412383e+11</td>\n",
              "      <td>1.476702e+11</td>\n",
              "      <td>1.128900e+11</td>\n",
              "      <td>1.451120e+11</td>\n",
              "      <td>1.336839e+11</td>\n",
              "      <td>1.431637e+11</td>\n",
              "      <td>1.759476e+11</td>\n",
              "      <td>1.783135e+11</td>\n",
              "      <td>4.231766e+10</td>\n",
              "    </tr>\n",
              "    <tr>\n",
              "      <th>std</th>\n",
              "      <td>5.207829e+11</td>\n",
              "      <td>6.062627e+11</td>\n",
              "      <td>6.687402e+11</td>\n",
              "      <td>6.858402e+11</td>\n",
              "      <td>7.425599e+11</td>\n",
              "      <td>8.037306e+11</td>\n",
              "      <td>9.202632e+11</td>\n",
              "      <td>9.226889e+11</td>\n",
              "      <td>9.959190e+11</td>\n",
              "      <td>1.026459e+12</td>\n",
              "      <td>...</td>\n",
              "      <td>1.735394e+12</td>\n",
              "      <td>1.716176e+12</td>\n",
              "      <td>1.797706e+12</td>\n",
              "      <td>1.276614e+12</td>\n",
              "      <td>1.912413e+12</td>\n",
              "      <td>1.883467e+12</td>\n",
              "      <td>1.996719e+12</td>\n",
              "      <td>2.684028e+12</td>\n",
              "      <td>2.689141e+12</td>\n",
              "      <td>3.623077e+11</td>\n",
              "    </tr>\n",
              "    <tr>\n",
              "      <th>min</th>\n",
              "      <td>0.000000e+00</td>\n",
              "      <td>0.000000e+00</td>\n",
              "      <td>0.000000e+00</td>\n",
              "      <td>0.000000e+00</td>\n",
              "      <td>0.000000e+00</td>\n",
              "      <td>0.000000e+00</td>\n",
              "      <td>0.000000e+00</td>\n",
              "      <td>0.000000e+00</td>\n",
              "      <td>0.000000e+00</td>\n",
              "      <td>0.000000e+00</td>\n",
              "      <td>...</td>\n",
              "      <td>-2.030843e+11</td>\n",
              "      <td>-8.599620e+10</td>\n",
              "      <td>-1.284680e+10</td>\n",
              "      <td>0.000000e+00</td>\n",
              "      <td>0.000000e+00</td>\n",
              "      <td>0.000000e+00</td>\n",
              "      <td>0.000000e+00</td>\n",
              "      <td>0.000000e+00</td>\n",
              "      <td>0.000000e+00</td>\n",
              "      <td>0.000000e+00</td>\n",
              "    </tr>\n",
              "    <tr>\n",
              "      <th>25%</th>\n",
              "      <td>0.000000e+00</td>\n",
              "      <td>0.000000e+00</td>\n",
              "      <td>0.000000e+00</td>\n",
              "      <td>0.000000e+00</td>\n",
              "      <td>0.000000e+00</td>\n",
              "      <td>0.000000e+00</td>\n",
              "      <td>0.000000e+00</td>\n",
              "      <td>0.000000e+00</td>\n",
              "      <td>0.000000e+00</td>\n",
              "      <td>0.000000e+00</td>\n",
              "      <td>...</td>\n",
              "      <td>0.000000e+00</td>\n",
              "      <td>0.000000e+00</td>\n",
              "      <td>0.000000e+00</td>\n",
              "      <td>0.000000e+00</td>\n",
              "      <td>0.000000e+00</td>\n",
              "      <td>0.000000e+00</td>\n",
              "      <td>6.219869e-04</td>\n",
              "      <td>4.563496e-04</td>\n",
              "      <td>0.000000e+00</td>\n",
              "      <td>0.000000e+00</td>\n",
              "    </tr>\n",
              "    <tr>\n",
              "      <th>50%</th>\n",
              "      <td>6.500000e-02</td>\n",
              "      <td>1.050000e-01</td>\n",
              "      <td>1.400000e-01</td>\n",
              "      <td>1.850000e-01</td>\n",
              "      <td>1.850000e-01</td>\n",
              "      <td>3.000000e-01</td>\n",
              "      <td>4.450000e-01</td>\n",
              "      <td>5.100000e-01</td>\n",
              "      <td>5.350000e-01</td>\n",
              "      <td>5.400000e-01</td>\n",
              "      <td>...</td>\n",
              "      <td>8.050000e-01</td>\n",
              "      <td>8.050000e-01</td>\n",
              "      <td>8.750000e-01</td>\n",
              "      <td>1.040000e+00</td>\n",
              "      <td>1.030000e+00</td>\n",
              "      <td>1.040000e+00</td>\n",
              "      <td>1.140000e+00</td>\n",
              "      <td>1.122445e+00</td>\n",
              "      <td>9.800000e-01</td>\n",
              "      <td>4.700000e-01</td>\n",
              "    </tr>\n",
              "    <tr>\n",
              "      <th>75%</th>\n",
              "      <td>2.400000e+06</td>\n",
              "      <td>9.327500e+06</td>\n",
              "      <td>1.863750e+07</td>\n",
              "      <td>2.573000e+07</td>\n",
              "      <td>3.180000e+07</td>\n",
              "      <td>6.854000e+07</td>\n",
              "      <td>8.701000e+07</td>\n",
              "      <td>1.130800e+08</td>\n",
              "      <td>1.446575e+08</td>\n",
              "      <td>1.443275e+08</td>\n",
              "      <td>...</td>\n",
              "      <td>5.027125e+08</td>\n",
              "      <td>5.467175e+08</td>\n",
              "      <td>5.726250e+08</td>\n",
              "      <td>6.910000e+08</td>\n",
              "      <td>7.365678e+08</td>\n",
              "      <td>8.070000e+08</td>\n",
              "      <td>8.745751e+08</td>\n",
              "      <td>8.882923e+08</td>\n",
              "      <td>7.553800e+08</td>\n",
              "      <td>1.513400e+08</td>\n",
              "    </tr>\n",
              "    <tr>\n",
              "      <th>max</th>\n",
              "      <td>8.467700e+12</td>\n",
              "      <td>1.033477e+13</td>\n",
              "      <td>1.212289e+13</td>\n",
              "      <td>1.246584e+13</td>\n",
              "      <td>1.381614e+13</td>\n",
              "      <td>1.596442e+13</td>\n",
              "      <td>1.888470e+13</td>\n",
              "      <td>1.909994e+13</td>\n",
              "      <td>2.061008e+13</td>\n",
              "      <td>2.103882e+13</td>\n",
              "      <td>...</td>\n",
              "      <td>3.930960e+13</td>\n",
              "      <td>3.912833e+13</td>\n",
              "      <td>4.158797e+13</td>\n",
              "      <td>2.702000e+13</td>\n",
              "      <td>4.363200e+13</td>\n",
              "      <td>4.466600e+13</td>\n",
              "      <td>4.705000e+13</td>\n",
              "      <td>6.307460e+13</td>\n",
              "      <td>6.063100e+13</td>\n",
              "      <td>6.864347e+12</td>\n",
              "    </tr>\n",
              "  </tbody>\n",
              "</table>\n",
              "<p>8 rows × 27 columns</p>\n",
              "</div>\n",
              "    <div class=\"colab-df-buttons\">\n",
              "\n",
              "  <div class=\"colab-df-container\">\n",
              "    <button class=\"colab-df-convert\" onclick=\"convertToInteractive('df-8b009de1-2d2b-4a25-9211-e2b38e9e3267')\"\n",
              "            title=\"Convert this dataframe to an interactive table.\"\n",
              "            style=\"display:none;\">\n",
              "\n",
              "  <svg xmlns=\"http://www.w3.org/2000/svg\" height=\"24px\" viewBox=\"0 -960 960 960\">\n",
              "    <path d=\"M120-120v-720h720v720H120Zm60-500h600v-160H180v160Zm220 220h160v-160H400v160Zm0 220h160v-160H400v160ZM180-400h160v-160H180v160Zm440 0h160v-160H620v160ZM180-180h160v-160H180v160Zm440 0h160v-160H620v160Z\"/>\n",
              "  </svg>\n",
              "    </button>\n",
              "\n",
              "  <style>\n",
              "    .colab-df-container {\n",
              "      display:flex;\n",
              "      gap: 12px;\n",
              "    }\n",
              "\n",
              "    .colab-df-convert {\n",
              "      background-color: #E8F0FE;\n",
              "      border: none;\n",
              "      border-radius: 50%;\n",
              "      cursor: pointer;\n",
              "      display: none;\n",
              "      fill: #1967D2;\n",
              "      height: 32px;\n",
              "      padding: 0 0 0 0;\n",
              "      width: 32px;\n",
              "    }\n",
              "\n",
              "    .colab-df-convert:hover {\n",
              "      background-color: #E2EBFA;\n",
              "      box-shadow: 0px 1px 2px rgba(60, 64, 67, 0.3), 0px 1px 3px 1px rgba(60, 64, 67, 0.15);\n",
              "      fill: #174EA6;\n",
              "    }\n",
              "\n",
              "    .colab-df-buttons div {\n",
              "      margin-bottom: 4px;\n",
              "    }\n",
              "\n",
              "    [theme=dark] .colab-df-convert {\n",
              "      background-color: #3B4455;\n",
              "      fill: #D2E3FC;\n",
              "    }\n",
              "\n",
              "    [theme=dark] .colab-df-convert:hover {\n",
              "      background-color: #434B5C;\n",
              "      box-shadow: 0px 1px 3px 1px rgba(0, 0, 0, 0.15);\n",
              "      filter: drop-shadow(0px 1px 2px rgba(0, 0, 0, 0.3));\n",
              "      fill: #FFFFFF;\n",
              "    }\n",
              "  </style>\n",
              "\n",
              "    <script>\n",
              "      const buttonEl =\n",
              "        document.querySelector('#df-8b009de1-2d2b-4a25-9211-e2b38e9e3267 button.colab-df-convert');\n",
              "      buttonEl.style.display =\n",
              "        google.colab.kernel.accessAllowed ? 'block' : 'none';\n",
              "\n",
              "      async function convertToInteractive(key) {\n",
              "        const element = document.querySelector('#df-8b009de1-2d2b-4a25-9211-e2b38e9e3267');\n",
              "        const dataTable =\n",
              "          await google.colab.kernel.invokeFunction('convertToInteractive',\n",
              "                                                    [key], {});\n",
              "        if (!dataTable) return;\n",
              "\n",
              "        const docLinkHtml = 'Like what you see? Visit the ' +\n",
              "          '<a target=\"_blank\" href=https://colab.research.google.com/notebooks/data_table.ipynb>data table notebook</a>'\n",
              "          + ' to learn more about interactive tables.';\n",
              "        element.innerHTML = '';\n",
              "        dataTable['output_type'] = 'display_data';\n",
              "        await google.colab.output.renderOutput(dataTable, element);\n",
              "        const docLink = document.createElement('div');\n",
              "        docLink.innerHTML = docLinkHtml;\n",
              "        element.appendChild(docLink);\n",
              "      }\n",
              "    </script>\n",
              "  </div>\n",
              "\n",
              "\n",
              "<div id=\"df-075c6acf-4f2f-4864-9085-a83a70a5a0ca\">\n",
              "  <button class=\"colab-df-quickchart\" onclick=\"quickchart('df-075c6acf-4f2f-4864-9085-a83a70a5a0ca')\"\n",
              "            title=\"Suggest charts\"\n",
              "            style=\"display:none;\">\n",
              "\n",
              "<svg xmlns=\"http://www.w3.org/2000/svg\" height=\"24px\"viewBox=\"0 0 24 24\"\n",
              "     width=\"24px\">\n",
              "    <g>\n",
              "        <path d=\"M19 3H5c-1.1 0-2 .9-2 2v14c0 1.1.9 2 2 2h14c1.1 0 2-.9 2-2V5c0-1.1-.9-2-2-2zM9 17H7v-7h2v7zm4 0h-2V7h2v10zm4 0h-2v-4h2v4z\"/>\n",
              "    </g>\n",
              "</svg>\n",
              "  </button>\n",
              "\n",
              "<style>\n",
              "  .colab-df-quickchart {\n",
              "      --bg-color: #E8F0FE;\n",
              "      --fill-color: #1967D2;\n",
              "      --hover-bg-color: #E2EBFA;\n",
              "      --hover-fill-color: #174EA6;\n",
              "      --disabled-fill-color: #AAA;\n",
              "      --disabled-bg-color: #DDD;\n",
              "  }\n",
              "\n",
              "  [theme=dark] .colab-df-quickchart {\n",
              "      --bg-color: #3B4455;\n",
              "      --fill-color: #D2E3FC;\n",
              "      --hover-bg-color: #434B5C;\n",
              "      --hover-fill-color: #FFFFFF;\n",
              "      --disabled-bg-color: #3B4455;\n",
              "      --disabled-fill-color: #666;\n",
              "  }\n",
              "\n",
              "  .colab-df-quickchart {\n",
              "    background-color: var(--bg-color);\n",
              "    border: none;\n",
              "    border-radius: 50%;\n",
              "    cursor: pointer;\n",
              "    display: none;\n",
              "    fill: var(--fill-color);\n",
              "    height: 32px;\n",
              "    padding: 0;\n",
              "    width: 32px;\n",
              "  }\n",
              "\n",
              "  .colab-df-quickchart:hover {\n",
              "    background-color: var(--hover-bg-color);\n",
              "    box-shadow: 0 1px 2px rgba(60, 64, 67, 0.3), 0 1px 3px 1px rgba(60, 64, 67, 0.15);\n",
              "    fill: var(--button-hover-fill-color);\n",
              "  }\n",
              "\n",
              "  .colab-df-quickchart-complete:disabled,\n",
              "  .colab-df-quickchart-complete:disabled:hover {\n",
              "    background-color: var(--disabled-bg-color);\n",
              "    fill: var(--disabled-fill-color);\n",
              "    box-shadow: none;\n",
              "  }\n",
              "\n",
              "  .colab-df-spinner {\n",
              "    border: 2px solid var(--fill-color);\n",
              "    border-color: transparent;\n",
              "    border-bottom-color: var(--fill-color);\n",
              "    animation:\n",
              "      spin 1s steps(1) infinite;\n",
              "  }\n",
              "\n",
              "  @keyframes spin {\n",
              "    0% {\n",
              "      border-color: transparent;\n",
              "      border-bottom-color: var(--fill-color);\n",
              "      border-left-color: var(--fill-color);\n",
              "    }\n",
              "    20% {\n",
              "      border-color: transparent;\n",
              "      border-left-color: var(--fill-color);\n",
              "      border-top-color: var(--fill-color);\n",
              "    }\n",
              "    30% {\n",
              "      border-color: transparent;\n",
              "      border-left-color: var(--fill-color);\n",
              "      border-top-color: var(--fill-color);\n",
              "      border-right-color: var(--fill-color);\n",
              "    }\n",
              "    40% {\n",
              "      border-color: transparent;\n",
              "      border-right-color: var(--fill-color);\n",
              "      border-top-color: var(--fill-color);\n",
              "    }\n",
              "    60% {\n",
              "      border-color: transparent;\n",
              "      border-right-color: var(--fill-color);\n",
              "    }\n",
              "    80% {\n",
              "      border-color: transparent;\n",
              "      border-right-color: var(--fill-color);\n",
              "      border-bottom-color: var(--fill-color);\n",
              "    }\n",
              "    90% {\n",
              "      border-color: transparent;\n",
              "      border-bottom-color: var(--fill-color);\n",
              "    }\n",
              "  }\n",
              "</style>\n",
              "\n",
              "  <script>\n",
              "    async function quickchart(key) {\n",
              "      const quickchartButtonEl =\n",
              "        document.querySelector('#' + key + ' button');\n",
              "      quickchartButtonEl.disabled = true;  // To prevent multiple clicks.\n",
              "      quickchartButtonEl.classList.add('colab-df-spinner');\n",
              "      try {\n",
              "        const charts = await google.colab.kernel.invokeFunction(\n",
              "            'suggestCharts', [key], {});\n",
              "      } catch (error) {\n",
              "        console.error('Error during call to suggestCharts:', error);\n",
              "      }\n",
              "      quickchartButtonEl.classList.remove('colab-df-spinner');\n",
              "      quickchartButtonEl.classList.add('colab-df-quickchart-complete');\n",
              "    }\n",
              "    (() => {\n",
              "      let quickchartButtonEl =\n",
              "        document.querySelector('#df-075c6acf-4f2f-4864-9085-a83a70a5a0ca button');\n",
              "      quickchartButtonEl.style.display =\n",
              "        google.colab.kernel.accessAllowed ? 'block' : 'none';\n",
              "    })();\n",
              "  </script>\n",
              "</div>\n",
              "\n",
              "    </div>\n",
              "  </div>\n"
            ],
            "application/vnd.google.colaboratory.intrinsic+json": {
              "type": "dataframe"
            }
          },
          "metadata": {},
          "execution_count": 28
        }
      ]
    },
    {
      "cell_type": "code",
      "source": [
        "#Greenhouse Gas(GCG) Emission\n",
        "\n",
        "Indicators_Summary=pd.read_csv(path+\"00_Indicators_Summary.csv\")\n",
        "# Useful to figure out Category of data\n",
        "# Primary keys: Indicator_ID, Indicator\n",
        "# Useful for web page information like 'Description', 'Country_Coverage', 'Time_Coverage','Last_Update_Date'\n",
        "\n",
        "Quarterly_Greenhouse=pd.read_csv(path+\"01_Quarterly_Greenhouse_Gas_GHG_Air_Emissions_Accounts.csv\")\n",
        "Annual_Greenhouse=pd.read_csv(path+\"02_Annual_Greenhouse_Gas_GHG_Air_Emissions_Accounts.csv\")\n",
        "National_Greenhouse_Gas_Emissions=pd.read_csv(path+\"03_National_Greenhouse_Gas_Emissions_Inventories_and_Implied_National_Mitigation_Nationally_Determined_Contributions_Targets.csv\")\n",
        "CO2_Emissions_Emissions=pd.read_csv(path+\"04_CO2_Emissions_Emissions_Intensities_and_Emissions_Multipliers.csv\")\n",
        "CO2_Emissions_embodied=pd.read_csv(path+\"05_CO2_Emissions_embodied_in_Domestic_Final_Demand_Production_and_Trade.csv\")\n",
        "Direct_Investment_Indicators=pd.read_csv(path+\"06_Direct_Investment-related_Indicators.csv\")\n",
        "\n",
        "#Mitigation\n",
        "Environmental_Taxes=pd.read_csv(path+\"07_Environmental_Taxes.csv\") #useful\n",
        "Environmental_Protection_Expenditures=pd.read_csv(path+\"08_Environmental_Protection_Expenditures.csv\") #useful\n",
        "Fossil_Fuel_Subsidies=pd.read_csv(path+\"09_Fossil_Fuel_Subsidies.csv\") #useful\n",
        "Renewable_Energy=pd.read_csv(path+\"10_Renewable_Energy.csv\") # No finance in it\n",
        "Trade_in_Low_Carbon_Technology_Products=pd.read_csv(path+\"11_Trade_in_Low_Carbon_Technology_Products.csv\") # No finance in it\n",
        "Bilateral_Trade_in_Low_Carbon_Technology_Products=pd.read_csv(path+\"12_Bilateral_Trade_in_Low_Carbon_Technology_Products.csv\") #Useful\n",
        "Forest_and_Carbon=pd.read_csv(path+\"13_Forest_and_Carbon.csv\") # No finance in it\n",
        "\n",
        "#Adaption\n",
        "Climate_Related_Disasters_Frequency=pd.read_csv(path+\"14_Climate-related_Disasters_Frequency.csv\") # No finance in it\n",
        "Climate_Risk=pd.read_csv(path+\"15_Climate-driven_INFORM_Risk.csv\") # No finance in it\n",
        "IMF_Adaption_Gain_Index=pd.read_csv(path+\"16_IMF-Adapted_ND-GAIN_Index.csv\") # No finance in it\n",
        "\n",
        "#Transition to a low carbon Econonmy\n",
        "NGFS_Transition_Pathways=pd.read_csv(path+\"17_NGFS_Transition_Pathways.csv\")\n",
        "NGFS_GDP_Losses_and_Benefits=pd.read_csv(path+\"18_NGFS_GDP_Losses_and_Benefits.csv\")\n",
        "Carbon_Tax_to_RevenuesAssets_in_Disclosing_Firms=pd.read_csv(path+\"19_Carbon_Tax_to_RevenuesAssets_in_Disclosing_Firms.csv\")\n",
        "RevenuesAssets_at_Risk_in_Disclosing_Firms=pd.read_csv(path+\"20_RevenuesAssets_at_Risk_in_Disclosing_Firms.csv\")\n",
        "\n",
        "#Climate Finance\n",
        "Green_Bonds=pd.read_csv(path+\"21_Green_Bonds.csv\") #useful\n",
        "Carbon_Footprint_of_Bank_Loans=pd.read_csv(path+\"22_Carbon_Footprint_of_Bank_Loans.csv\") #useful\n",
        "\n",
        "#Climate and Weather\n",
        "Annual_Surface_Temperature_Change=pd.read_csv(path+\"23_Annual_Surface_Temperature_Change.csv\")\n",
        "Atmospheric_CO2_Concentrations=pd.read_csv(path+\"24_Atmospheric_CO2_Concentrations.csv\")\n",
        "Change_in_Mean_Sea_Levels=pd.read_csv(path+\"25_Change_in_Mean_Sea_Levels.csv\")\n",
        "Land_Cover_Accounts=pd.read_csv(path+\"26_Land_Cover_Accounts.csv\")\n",
        "\n",
        "\n"
      ],
      "metadata": {
        "id": "oTGQKmTjZe9O"
      },
      "execution_count": null,
      "outputs": []
    },
    {
      "cell_type": "markdown",
      "source": [
        "USEFUL DATASETS:"
      ],
      "metadata": {
        "id": "uwHoB_GSpAqN"
      }
    },
    {
      "cell_type": "code",
      "source": [
        "#Mitigation\n",
        "Environmental_Taxes_7=pd.read_csv(path+\"07_Environmental_Taxes.csv\") #useful Indicator_ID\n",
        "Environmental_Taxes_7['Indicator_ID']=7\n",
        "\n",
        "Environmental_Protection_Expenditures_8=pd.read_csv(path+\"08_Environmental_Protection_Expenditures.csv\") #useful\n",
        "Environmental_Protection_Expenditures_8['Indicator_ID']=8\n",
        "\n",
        "Fossil_Fuel_Subsidies_9=pd.read_csv(path+\"09_Fossil_Fuel_Subsidies.csv\") #useful\n",
        "Fossil_Fuel_Subsidies_9['Indicator_ID']=9\n",
        "\n",
        "Bilateral_Trade_in_Low_Carbon_Technology_Products_12=pd.read_csv(path+\"12_Bilateral_Trade_in_Low_Carbon_Technology_Products.csv\") #Useful\n",
        "Bilateral_Trade_in_Low_Carbon_Technology_Products_12['Indicator_ID']=12\n",
        "\n",
        "#Climate Finance\n",
        "Green_Bonds_21=pd.read_csv(path+\"21_Green_Bonds.csv\") #useful\n",
        "Green_Bonds_21['Indicator_ID']=21\n",
        "\n",
        "Carbon_Footprint_of_Bank_Loans_22=pd.read_csv(path+\"22_Carbon_Footprint_of_Bank_Loans.csv\") #useful\n",
        "Carbon_Footprint_of_Bank_Loans_22['Indicator_ID']=22\n",
        "\n"
      ],
      "metadata": {
        "id": "rUDoCEdG1k1i"
      },
      "execution_count": null,
      "outputs": []
    },
    {
      "cell_type": "code",
      "source": [
        "print(Carbon_Footprint_of_Bank_Loans.columns)"
      ],
      "metadata": {
        "colab": {
          "base_uri": "https://localhost:8080/"
        },
        "id": "7Wo2OmNHsUsS",
        "outputId": "1a8a1a3b-979e-45c2-abc8-be259bf30b29"
      },
      "execution_count": null,
      "outputs": [
        {
          "output_type": "stream",
          "name": "stdout",
          "text": [
            "Index(['Country', 'ISO2', 'ISO3', 'Indicator', 'Unit', 'Source', 'CTS Code',\n",
            "       'CTS Name', 'CTS Full Descriptor', '2005', '2006', '2007', '2008',\n",
            "       '2009', '2010', '2011', '2012', '2013', '2014', '2015', '2016', '2017',\n",
            "       '2018'],\n",
            "      dtype='object')\n"
          ]
        }
      ]
    },
    {
      "cell_type": "code",
      "source": [
        "print(Environmental_Taxes_7.count()) #1239\n",
        "print(Environmental_Protection_Expenditures_8.count()) #1537\n",
        "print(Fossil_Fuel_Subsidies_9.count()) #7056\n",
        "print(Bilateral_Trade_in_Low_Carbon_Technology_Products_12.count()) #135767\n",
        "print(Green_Bonds_21.count()) #355\n",
        "print(Carbon_Footprint_of_Bank_Loans_22.count()) #160\n",
        "#146114"
      ],
      "metadata": {
        "colab": {
          "base_uri": "https://localhost:8080/"
        },
        "id": "uhPAGtocEVw4",
        "outputId": "0f0dd9a3-c5b6-406a-961e-604f16ad81c7"
      },
      "execution_count": null,
      "outputs": [
        {
          "output_type": "stream",
          "name": "stdout",
          "text": [
            "Country                1239\n",
            "ISO2                   1229\n",
            "ISO3                   1231\n",
            "Indicator              1239\n",
            "Source                 1239\n",
            "CTS Code               1239\n",
            "CTS Name               1239\n",
            "CTS Full Descriptor    1239\n",
            "Unit                   1239\n",
            "1995                    744\n",
            "1996                    748\n",
            "1997                    748\n",
            "1998                    756\n",
            "1999                    758\n",
            "2000                    808\n",
            "2001                    824\n",
            "2002                    828\n",
            "2003                    836\n",
            "2004                    836\n",
            "2005                    870\n",
            "2006                    880\n",
            "2007                    888\n",
            "2008                    918\n",
            "2009                    918\n",
            "2010                    944\n",
            "2011                    936\n",
            "2012                    932\n",
            "2013                    930\n",
            "2014                    934\n",
            "2015                   1195\n",
            "2016                   1193\n",
            "2017                   1189\n",
            "2018                   1171\n",
            "2019                   1139\n",
            "2020                   1047\n",
            "2021                    660\n",
            "Indicator_ID           1239\n",
            "dtype: int64\n",
            "Country                1537\n",
            "ISO2                   1523\n",
            "ISO3                   1523\n",
            "Indicator              1537\n",
            "Source                 1537\n",
            "CTS Code               1537\n",
            "CTS Name               1537\n",
            "CTS Full Descriptor    1537\n",
            "Unit                   1537\n",
            "1995                    272\n",
            "1996                    274\n",
            "1997                    284\n",
            "1998                    286\n",
            "1999                    316\n",
            "2000                    502\n",
            "2001                    700\n",
            "2002                    638\n",
            "2003                    634\n",
            "2004                    638\n",
            "2005                    642\n",
            "2006                    632\n",
            "2007                    630\n",
            "2008                    682\n",
            "2009                    718\n",
            "2010                    736\n",
            "2011                    752\n",
            "2012                    774\n",
            "2013                    846\n",
            "2014                    994\n",
            "2015                   1103\n",
            "2016                   1129\n",
            "2017                   1211\n",
            "2018                   1225\n",
            "2019                   1229\n",
            "2020                   1169\n",
            "2021                    944\n",
            "2022                     14\n",
            "Indicator_ID           1537\n",
            "dtype: int64\n",
            "Country                7056\n",
            "ISO2                   7014\n",
            "ISO3                   7056\n",
            "Indicator              7056\n",
            "Source                 7056\n",
            "CTS Code               7056\n",
            "CTS Name               7056\n",
            "CTS Full Descriptor    7056\n",
            "Unit                   7056\n",
            "2015                   7056\n",
            "2016                   7056\n",
            "2017                   7056\n",
            "2018                   7056\n",
            "2019                   7056\n",
            "2020                   7056\n",
            "2021                   7056\n",
            "2022                   7056\n",
            "2023                   7056\n",
            "2024                   7056\n",
            "2025                   7056\n",
            "2026                   7056\n",
            "2027                   7056\n",
            "2028                   7056\n",
            "2029                   7056\n",
            "2030                   7056\n",
            "Indicator_ID           7056\n",
            "dtype: int64\n",
            "Country                135767\n",
            "ISO2                   132697\n",
            "ISO3                   133457\n",
            "Counterpart Country    135767\n",
            "Counterpart ISO2       131644\n",
            "Counterpart ISO3       132256\n",
            "Indicator              135767\n",
            "Unit                   135767\n",
            "Source                 135767\n",
            "CTS Code               135767\n",
            "CTS Name               135767\n",
            "CTS Full Descriptor    135767\n",
            "Trade Flow             135767\n",
            "Scale                  135767\n",
            "1994                    18600\n",
            "1995                    20861\n",
            "1996                    22968\n",
            "1997                    24317\n",
            "1998                    39792\n",
            "1999                    41779\n",
            "2000                    49332\n",
            "2001                    51056\n",
            "2002                    52902\n",
            "2003                    54730\n",
            "2004                    57147\n",
            "2005                    58734\n",
            "2006                    61118\n",
            "2007                    63833\n",
            "2008                    64639\n",
            "2009                    65060\n",
            "2010                    67355\n",
            "2011                    68139\n",
            "2012                    69438\n",
            "2013                    71494\n",
            "2014                    71037\n",
            "2015                    73586\n",
            "2016                    75008\n",
            "2017                    76805\n",
            "2018                    76681\n",
            "2019                    77476\n",
            "2020                    74231\n",
            "2021                    77268\n",
            "2022                    72448\n",
            "2023                    64248\n",
            "Indicator_ID           135767\n",
            "dtype: int64\n",
            "Country                355\n",
            "ISO2                   106\n",
            "ISO3                   355\n",
            "Indicator              355\n",
            "Unit                   355\n",
            "Source                 353\n",
            "CTS Code               353\n",
            "CTS Name               353\n",
            "CTS Full Descriptor    353\n",
            "Type of Issuer         355\n",
            "Use of Proceed         355\n",
            "Principal Currency     355\n",
            "1985                     6\n",
            "1986                     4\n",
            "1987                     4\n",
            "1990                     4\n",
            "1991                     4\n",
            "1992                     5\n",
            "1993                     6\n",
            "1994                     4\n",
            "1999                     4\n",
            "2000                     6\n",
            "2002                     5\n",
            "2003                    10\n",
            "2004                     4\n",
            "2007                     3\n",
            "2008                     5\n",
            "2009                     3\n",
            "2010                     5\n",
            "2011                     5\n",
            "2012                    10\n",
            "2013                    17\n",
            "2014                    26\n",
            "2015                    29\n",
            "2016                    42\n",
            "2017                    53\n",
            "2018                    57\n",
            "2019                    68\n",
            "2020                    72\n",
            "2021                    87\n",
            "2022                   315\n",
            "Indicator_ID           355\n",
            "dtype: int64\n",
            "Country                160\n",
            "ISO2                   160\n",
            "ISO3                   160\n",
            "Indicator              160\n",
            "Unit                   160\n",
            "Source                 160\n",
            "CTS Code               160\n",
            "CTS Name               160\n",
            "CTS Full Descriptor    160\n",
            "2005                    40\n",
            "2006                    56\n",
            "2007                    64\n",
            "2008                    84\n",
            "2009                    96\n",
            "2010                   128\n",
            "2011                   132\n",
            "2012                   140\n",
            "2013                   144\n",
            "2014                   148\n",
            "2015                   160\n",
            "2016                   160\n",
            "2017                   160\n",
            "2018                   160\n",
            "Indicator_ID           160\n",
            "dtype: int64\n"
          ]
        }
      ]
    },
    {
      "cell_type": "code",
      "source": [
        "Environmental_Taxes_7[\"Country_ID\"]=Environmental_Taxes_7.apply(lambda row: uuid.uuid5(uuid.NAMESPACE_DNS, f\"{row['Country']}_{row['ISO2']}_{row['ISO3']}\"), axis=1)\n",
        "Environmental_Taxes_7[\"CTS_ID\"] =  Environmental_Taxes_7.apply(lambda row: uuid.uuid5(uuid.NAMESPACE_DNS, f\"{row['CTS Code']}_{row['CTS Name']}_{row['CTS Full Descriptor']}\"), axis=1)\n",
        "Environmental_Taxes_7[\"Unit_ID\"] =  Environmental_Taxes_7.apply(lambda row: uuid.uuid5(uuid.NAMESPACE_DNS, f\"{row['Unit']}\"), axis=1)\n",
        "\n",
        "Environmental_Protection_Expenditures_8[\"Country_ID\"]=Environmental_Protection_Expenditures_8.apply(lambda row: uuid.uuid5(uuid.NAMESPACE_DNS, f\"{row['Country']}_{row['ISO2']}_{row['ISO3']}\"), axis=1)\n",
        "Environmental_Protection_Expenditures_8[\"CTS_ID\"] =  Environmental_Protection_Expenditures_8.apply(lambda row: uuid.uuid5(uuid.NAMESPACE_DNS, f\"{row['CTS Code']}_{row['CTS Name']}_{row['CTS Full Descriptor']}\"), axis=1)\n",
        "Environmental_Protection_Expenditures_8[\"Unit_ID\"] =  Environmental_Protection_Expenditures_8.apply(lambda row: uuid.uuid5(uuid.NAMESPACE_DNS, f\"{row['Unit']}\"), axis=1)\n",
        "\n",
        "Fossil_Fuel_Subsidies_9[\"Country_ID\"]=Fossil_Fuel_Subsidies_9.apply(lambda row: uuid.uuid5(uuid.NAMESPACE_DNS, f\"{row['Country']}_{row['ISO2']}_{row['ISO3']}\"), axis=1)\n",
        "Fossil_Fuel_Subsidies_9[\"CTS_ID\"] =  Fossil_Fuel_Subsidies_9.apply(lambda row: uuid.uuid5(uuid.NAMESPACE_DNS, f\"{row['CTS Code']}_{row['CTS Name']}_{row['CTS Full Descriptor']}\"), axis=1)\n",
        "Fossil_Fuel_Subsidies_9[\"Unit_ID\"] =  Fossil_Fuel_Subsidies_9.apply(lambda row: uuid.uuid5(uuid.NAMESPACE_DNS, f\"{row['Unit']}\"), axis=1)\n",
        "\n",
        "Bilateral_Trade_in_Low_Carbon_Technology_Products_12[\"Country_ID\"]=Bilateral_Trade_in_Low_Carbon_Technology_Products_12.apply(lambda row: uuid.uuid5(uuid.NAMESPACE_DNS, f\"{row['Country']}_{row['ISO2']}_{row['ISO3']}\"), axis=1)\n",
        "Bilateral_Trade_in_Low_Carbon_Technology_Products_12[\"CTS_ID\"] =  Bilateral_Trade_in_Low_Carbon_Technology_Products_12.apply(lambda row: uuid.uuid5(uuid.NAMESPACE_DNS, f\"{row['CTS Code']}_{row['CTS Name']}_{row['CTS Full Descriptor']}\"), axis=1)\n",
        "Bilateral_Trade_in_Low_Carbon_Technology_Products_12[\"Unit_ID\"] =  Bilateral_Trade_in_Low_Carbon_Technology_Products_12.apply(lambda row: uuid.uuid5(uuid.NAMESPACE_DNS, f\"{row['Unit']}\"), axis=1)\n",
        "Bilateral_Trade_in_Low_Carbon_Technology_Products_12[\"Counterpart_Country_ID\"]=Bilateral_Trade_in_Low_Carbon_Technology_Products_12.apply(lambda row: uuid.uuid5(uuid.NAMESPACE_DNS, f\"{row['Counterpart Country']}_{row['Counterpart ISO2']}_{row['Counterpart ISO3']}\"), axis=1)\n",
        "Bilateral_Trade_in_Low_Carbon_Technology_Products_12[\"Counterpart_Country_Trade_ID\"]=Bilateral_Trade_in_Low_Carbon_Technology_Products_12.apply(lambda row: uuid.uuid5(uuid.NAMESPACE_DNS, f\"{row['Trade Flow']}\"), axis=1)\n",
        "\n",
        "Green_Bonds_21[\"Country_ID\"]=Green_Bonds_21.apply(lambda row: uuid.uuid5(uuid.NAMESPACE_DNS, f\"{row['Country']}_{row['ISO2']}_{row['ISO3']}\"), axis=1)\n",
        "Green_Bonds_21[\"CTS_ID\"] =  Green_Bonds_21.apply(lambda row: uuid.uuid5(uuid.NAMESPACE_DNS, f\"{row['CTS Code']}_{row['CTS Name']}_{row['CTS Full Descriptor']}\"), axis=1)\n",
        "Green_Bonds_21[\"Unit_ID\"] =  Green_Bonds_21.apply(lambda row: uuid.uuid5(uuid.NAMESPACE_DNS, f\"{row['Unit']}\"), axis=1)\n",
        "\n",
        "Carbon_Footprint_of_Bank_Loans_22[\"Country_ID\"]=Carbon_Footprint_of_Bank_Loans_22.apply(lambda row: uuid.uuid5(uuid.NAMESPACE_DNS, f\"{row['Country']}_{row['ISO2']}_{row['ISO3']}\"), axis=1)\n",
        "Carbon_Footprint_of_Bank_Loans_22[\"CTS_ID\"] =  Carbon_Footprint_of_Bank_Loans_22.apply(lambda row: uuid.uuid5(uuid.NAMESPACE_DNS, f\"{row['CTS Code']}_{row['CTS Name']}_{row['CTS Full Descriptor']}\"), axis=1)\n",
        "Carbon_Footprint_of_Bank_Loans_22[\"Unit_ID\"] =  Carbon_Footprint_of_Bank_Loans_22.apply(lambda row: uuid.uuid5(uuid.NAMESPACE_DNS, f\"{row['Unit']}\"), axis=1)\n"
      ],
      "metadata": {
        "id": "9dCWGrie6v94"
      },
      "execution_count": null,
      "outputs": []
    },
    {
      "cell_type": "code",
      "source": [
        "# Step 1: Identify the complete set of columns\n",
        "all_columns = sorted(set().union(*[df.columns for df in [Environmental_Taxes_7, Environmental_Protection_Expenditures_8, Fossil_Fuel_Subsidies_9,Bilateral_Trade_in_Low_Carbon_Technology_Products_12,Green_Bonds_21,Carbon_Footprint_of_Bank_Loans_22]]))\n",
        "\n"
      ],
      "metadata": {
        "id": "jY7gX8ZjCeXy"
      },
      "execution_count": null,
      "outputs": []
    },
    {
      "cell_type": "code",
      "source": [
        "all_columns"
      ],
      "metadata": {
        "colab": {
          "base_uri": "https://localhost:8080/"
        },
        "id": "5Mnw7igOCy-U",
        "outputId": "655e67b9-2925-45d9-d470-d3a615d2feb0"
      },
      "execution_count": null,
      "outputs": [
        {
          "output_type": "execute_result",
          "data": {
            "text/plain": [
              "['1985',\n",
              " '1986',\n",
              " '1987',\n",
              " '1990',\n",
              " '1991',\n",
              " '1992',\n",
              " '1993',\n",
              " '1994',\n",
              " '1995',\n",
              " '1996',\n",
              " '1997',\n",
              " '1998',\n",
              " '1999',\n",
              " '2000',\n",
              " '2001',\n",
              " '2002',\n",
              " '2003',\n",
              " '2004',\n",
              " '2005',\n",
              " '2006',\n",
              " '2007',\n",
              " '2008',\n",
              " '2009',\n",
              " '2010',\n",
              " '2011',\n",
              " '2012',\n",
              " '2013',\n",
              " '2014',\n",
              " '2015',\n",
              " '2016',\n",
              " '2017',\n",
              " '2018',\n",
              " '2019',\n",
              " '2020',\n",
              " '2021',\n",
              " '2022',\n",
              " '2023',\n",
              " '2024',\n",
              " '2025',\n",
              " '2026',\n",
              " '2027',\n",
              " '2028',\n",
              " '2029',\n",
              " '2030',\n",
              " 'CTS Code',\n",
              " 'CTS Full Descriptor',\n",
              " 'CTS Name',\n",
              " 'CTS_ID',\n",
              " 'Counterpart Country',\n",
              " 'Counterpart ISO2',\n",
              " 'Counterpart ISO3',\n",
              " 'Counterpart_Country_ID',\n",
              " 'Counterpart_Country_Trade_ID',\n",
              " 'Country',\n",
              " 'Country_ID',\n",
              " 'ISO2',\n",
              " 'ISO3',\n",
              " 'Indicator',\n",
              " 'Indicator_ID',\n",
              " 'Principal Currency',\n",
              " 'Scale',\n",
              " 'Source',\n",
              " 'Trade Flow',\n",
              " 'Type of Issuer',\n",
              " 'Unit',\n",
              " 'Unit_ID',\n",
              " 'Use of Proceed']"
            ]
          },
          "metadata": {},
          "execution_count": 65
        }
      ]
    },
    {
      "cell_type": "code",
      "source": [
        "# Step 2: Reindex each DataFrame to align with the complete set of columns\n",
        "aligned_dfs = [df.reindex(columns=all_columns) for df in [Environmental_Taxes_7, Environmental_Protection_Expenditures_8, Fossil_Fuel_Subsidies_9,Bilateral_Trade_in_Low_Carbon_Technology_Products_12,Green_Bonds_21,Carbon_Footprint_of_Bank_Loans_22]]\n",
        "\n"
      ],
      "metadata": {
        "id": "NxXzmWPRCk_G"
      },
      "execution_count": null,
      "outputs": []
    },
    {
      "cell_type": "code",
      "source": [
        "# Step 3: Concatenate the DataFrames\n",
        "union_df = pd.concat(aligned_dfs, ignore_index=True)\n",
        "\n",
        "#print(union_df)"
      ],
      "metadata": {
        "id": "Pmz-e0L1C_1Y"
      },
      "execution_count": null,
      "outputs": []
    },
    {
      "cell_type": "code",
      "source": [
        "union_df=union_df.drop(columns=['Counterpart Country','Counterpart ISO2','Counterpart ISO3','Trade Flow','Country', 'ISO2', 'ISO3','CTS Code','CTS Name', 'CTS Full Descriptor','Unit'])"
      ],
      "metadata": {
        "id": "zxCP2uF_O1nk"
      },
      "execution_count": null,
      "outputs": []
    },
    {
      "cell_type": "code",
      "source": [
        "union_df['id']=range(1,len(union_df)+1)"
      ],
      "metadata": {
        "id": "2KI5ibVAdFE_"
      },
      "execution_count": null,
      "outputs": []
    },
    {
      "cell_type": "code",
      "source": [
        "print(union_df.count())"
      ],
      "metadata": {
        "colab": {
          "base_uri": "https://localhost:8080/"
        },
        "id": "lJZf36hMN_5L",
        "outputId": "233bc440-6427-44bd-daac-902d2e1c3f26"
      },
      "execution_count": null,
      "outputs": [
        {
          "output_type": "stream",
          "name": "stdout",
          "text": [
            "1985                                 6\n",
            "1986                                 4\n",
            "1987                                 4\n",
            "1990                                 4\n",
            "1991                                 4\n",
            "1992                                 5\n",
            "1993                                 6\n",
            "1994                             18604\n",
            "1995                             21877\n",
            "1996                             23990\n",
            "1997                             25349\n",
            "1998                             40834\n",
            "1999                             42857\n",
            "2000                             50648\n",
            "2001                             52580\n",
            "2002                             54373\n",
            "2003                             56210\n",
            "2004                             58625\n",
            "2005                             60286\n",
            "2006                             62686\n",
            "2007                             65418\n",
            "2008                             66328\n",
            "2009                             66795\n",
            "2010                             69168\n",
            "2011                             69964\n",
            "2012                             71294\n",
            "2013                             73431\n",
            "2014                             73139\n",
            "2015                             83129\n",
            "2016                             84588\n",
            "2017                             86474\n",
            "2018                             86350\n",
            "2019                             86968\n",
            "2020                             83575\n",
            "2021                             86015\n",
            "2022                             79833\n",
            "2023                             71304\n",
            "2024                              7056\n",
            "2025                              7056\n",
            "2026                              7056\n",
            "2027                              7056\n",
            "2028                              7056\n",
            "2029                              7056\n",
            "2030                              7056\n",
            "CTS_ID                          146114\n",
            "Counterpart_Country_ID          135767\n",
            "Counterpart_Country_Trade_ID    135767\n",
            "Country_ID                      146114\n",
            "Indicator                       146114\n",
            "Indicator_ID                    146114\n",
            "Principal Currency                 355\n",
            "Scale                           135767\n",
            "Source                          146112\n",
            "Type of Issuer                     355\n",
            "Unit_ID                         146114\n",
            "Use of Proceed                     355\n",
            "id                              146114\n",
            "dtype: int64\n"
          ]
        }
      ]
    },
    {
      "cell_type": "code",
      "source": [
        "union_df.to_csv(\"climate_finance_fact.csv\", index=False)"
      ],
      "metadata": {
        "id": "NLOzqsjBDkHx"
      },
      "execution_count": null,
      "outputs": []
    },
    {
      "cell_type": "markdown",
      "source": [
        "# Dimension table Counterpart country"
      ],
      "metadata": {
        "id": "dogChAQ4hHW4"
      }
    },
    {
      "cell_type": "code",
      "source": [
        "import uuid"
      ],
      "metadata": {
        "id": "VXu7jdKBi0H4"
      },
      "execution_count": null,
      "outputs": []
    },
    {
      "cell_type": "code",
      "source": [
        "cp_country_df1 = Bilateral_Trade_in_Low_Carbon_Technology_Products[['Counterpart Country','Counterpart ISO2','Counterpart ISO3']].drop_duplicates()\n"
      ],
      "metadata": {
        "id": "Ggi7mGwGhF0m"
      },
      "execution_count": null,
      "outputs": []
    },
    {
      "cell_type": "code",
      "source": [
        "cp_country_df1[\"Counterpart_Country_ID\"]=cp_country_df1.apply(lambda row: uuid.uuid5(uuid.NAMESPACE_DNS, f\"{row['Counterpart Country']}_{row['Counterpart ISO2']}_{row['Counterpart ISO3']}\"), axis=1)\n"
      ],
      "metadata": {
        "id": "3t17jCvHiQ45"
      },
      "execution_count": null,
      "outputs": []
    },
    {
      "cell_type": "code",
      "source": [
        "cp_country_df1.count()"
      ],
      "metadata": {
        "colab": {
          "base_uri": "https://localhost:8080/",
          "height": 207
        },
        "id": "2feJVd8u2Qw4",
        "outputId": "9ca35169-d8c7-44b5-dde4-75422cae0004"
      },
      "execution_count": null,
      "outputs": [
        {
          "output_type": "execute_result",
          "data": {
            "text/plain": [
              "Counterpart Country       249\n",
              "Counterpart ISO2          232\n",
              "Counterpart ISO3          234\n",
              "Counterpart_Country_ID    249\n",
              "dtype: int64"
            ],
            "text/html": [
              "<div>\n",
              "<style scoped>\n",
              "    .dataframe tbody tr th:only-of-type {\n",
              "        vertical-align: middle;\n",
              "    }\n",
              "\n",
              "    .dataframe tbody tr th {\n",
              "        vertical-align: top;\n",
              "    }\n",
              "\n",
              "    .dataframe thead th {\n",
              "        text-align: right;\n",
              "    }\n",
              "</style>\n",
              "<table border=\"1\" class=\"dataframe\">\n",
              "  <thead>\n",
              "    <tr style=\"text-align: right;\">\n",
              "      <th></th>\n",
              "      <th>0</th>\n",
              "    </tr>\n",
              "  </thead>\n",
              "  <tbody>\n",
              "    <tr>\n",
              "      <th>Counterpart Country</th>\n",
              "      <td>249</td>\n",
              "    </tr>\n",
              "    <tr>\n",
              "      <th>Counterpart ISO2</th>\n",
              "      <td>232</td>\n",
              "    </tr>\n",
              "    <tr>\n",
              "      <th>Counterpart ISO3</th>\n",
              "      <td>234</td>\n",
              "    </tr>\n",
              "    <tr>\n",
              "      <th>Counterpart_Country_ID</th>\n",
              "      <td>249</td>\n",
              "    </tr>\n",
              "  </tbody>\n",
              "</table>\n",
              "</div><br><label><b>dtype:</b> int64</label>"
            ]
          },
          "metadata": {},
          "execution_count": 34
        }
      ]
    },
    {
      "cell_type": "code",
      "source": [
        "# Save the DataFrame to a CSV file\n",
        "cp_country_df1.to_csv(\"counterpart_country_dimension.csv\", index=False)"
      ],
      "metadata": {
        "id": "hyTgj7_li6Nh"
      },
      "execution_count": null,
      "outputs": []
    },
    {
      "cell_type": "markdown",
      "source": [],
      "metadata": {
        "id": "6l083GPf1g-9"
      }
    },
    {
      "cell_type": "code",
      "source": [
        "cp_country_tf = Bilateral_Trade_in_Low_Carbon_Technology_Products[['Trade Flow']].drop_duplicates()\n"
      ],
      "metadata": {
        "id": "EGaVOqTVjN0A"
      },
      "execution_count": null,
      "outputs": []
    },
    {
      "cell_type": "code",
      "source": [
        "cp_country_tf[\"Counterpart_Country_Trade_ID\"]=cp_country_tf.apply(lambda row: uuid.uuid5(uuid.NAMESPACE_DNS, f\"{row['Trade Flow']}\"), axis=1)\n"
      ],
      "metadata": {
        "id": "IQ34r_k7jxHJ"
      },
      "execution_count": null,
      "outputs": []
    },
    {
      "cell_type": "code",
      "source": [
        "cp_country_tf.count()"
      ],
      "metadata": {
        "colab": {
          "base_uri": "https://localhost:8080/",
          "height": 145
        },
        "id": "gVde3wJQ2LIj",
        "outputId": "c68bc0f5-1c0a-4369-b08d-345d5a66df51"
      },
      "execution_count": null,
      "outputs": [
        {
          "output_type": "execute_result",
          "data": {
            "text/plain": [
              "Trade Flow                      3\n",
              "Counterpart_Country_Trade_ID    3\n",
              "dtype: int64"
            ],
            "text/html": [
              "<div>\n",
              "<style scoped>\n",
              "    .dataframe tbody tr th:only-of-type {\n",
              "        vertical-align: middle;\n",
              "    }\n",
              "\n",
              "    .dataframe tbody tr th {\n",
              "        vertical-align: top;\n",
              "    }\n",
              "\n",
              "    .dataframe thead th {\n",
              "        text-align: right;\n",
              "    }\n",
              "</style>\n",
              "<table border=\"1\" class=\"dataframe\">\n",
              "  <thead>\n",
              "    <tr style=\"text-align: right;\">\n",
              "      <th></th>\n",
              "      <th>0</th>\n",
              "    </tr>\n",
              "  </thead>\n",
              "  <tbody>\n",
              "    <tr>\n",
              "      <th>Trade Flow</th>\n",
              "      <td>3</td>\n",
              "    </tr>\n",
              "    <tr>\n",
              "      <th>Counterpart_Country_Trade_ID</th>\n",
              "      <td>3</td>\n",
              "    </tr>\n",
              "  </tbody>\n",
              "</table>\n",
              "</div><br><label><b>dtype:</b> int64</label>"
            ]
          },
          "metadata": {},
          "execution_count": 33
        }
      ]
    },
    {
      "cell_type": "code",
      "source": [
        "cp_country_tf.to_csv(\"counterpart_country_trade_dimension.csv\", index=False)"
      ],
      "metadata": {
        "id": "_rTgs_qD2GKV"
      },
      "execution_count": null,
      "outputs": []
    },
    {
      "cell_type": "markdown",
      "source": [
        "# Dimension table Country"
      ],
      "metadata": {
        "id": "RW-ssnxQrieC"
      }
    },
    {
      "cell_type": "code",
      "source": [
        "import uuid"
      ],
      "metadata": {
        "id": "vVeus8ZS58Yb"
      },
      "execution_count": null,
      "outputs": []
    },
    {
      "cell_type": "code",
      "source": [
        "# Select specific columns\n",
        "country_df1 = Environmental_Taxes[['Country', 'ISO2', 'ISO3']]\n",
        "country_df2 = Environmental_Protection_Expenditures[['Country', 'ISO2', 'ISO3']]\n",
        "country_df3 = Fossil_Fuel_Subsidies[['Country', 'ISO2', 'ISO3']]\n",
        "country_df4 = Bilateral_Trade_in_Low_Carbon_Technology_Products[['Country', 'ISO2', 'ISO3']]\n",
        "country_df5 = Green_Bonds[['Country', 'ISO2', 'ISO3']]\n",
        "country_df6 = Carbon_Footprint_of_Bank_Loans[['Country', 'ISO2', 'ISO3']]\n",
        "\n",
        "# Combine them\n",
        "country_combined_df = pd.concat([country_df1,country_df2,country_df3,country_df4,country_df5], ignore_index=True).drop_duplicates()\n"
      ],
      "metadata": {
        "id": "p574T_xOrhU9"
      },
      "execution_count": null,
      "outputs": []
    },
    {
      "cell_type": "code",
      "source": [
        "# Generate a unique ID based on hash of multiple columns\n",
        "country_combined_df[\"Country_ID\"]=country_combined_df.apply(lambda row: uuid.uuid5(uuid.NAMESPACE_DNS, f\"{row['Country']}_{row['ISO2']}_{row['ISO3']}\"), axis=1)\n",
        "country_combined_df.count()"
      ],
      "metadata": {
        "colab": {
          "base_uri": "https://localhost:8080/",
          "height": 207
        },
        "id": "nFm6Yxcvtt8I",
        "outputId": "95aee301-83eb-4c1f-f1dc-a1d0161a1827"
      },
      "execution_count": null,
      "outputs": [
        {
          "output_type": "execute_result",
          "data": {
            "text/plain": [
              "Country       222\n",
              "ISO2          216\n",
              "ISO3          217\n",
              "Country_ID    222\n",
              "dtype: int64"
            ],
            "text/html": [
              "<div>\n",
              "<style scoped>\n",
              "    .dataframe tbody tr th:only-of-type {\n",
              "        vertical-align: middle;\n",
              "    }\n",
              "\n",
              "    .dataframe tbody tr th {\n",
              "        vertical-align: top;\n",
              "    }\n",
              "\n",
              "    .dataframe thead th {\n",
              "        text-align: right;\n",
              "    }\n",
              "</style>\n",
              "<table border=\"1\" class=\"dataframe\">\n",
              "  <thead>\n",
              "    <tr style=\"text-align: right;\">\n",
              "      <th></th>\n",
              "      <th>0</th>\n",
              "    </tr>\n",
              "  </thead>\n",
              "  <tbody>\n",
              "    <tr>\n",
              "      <th>Country</th>\n",
              "      <td>222</td>\n",
              "    </tr>\n",
              "    <tr>\n",
              "      <th>ISO2</th>\n",
              "      <td>216</td>\n",
              "    </tr>\n",
              "    <tr>\n",
              "      <th>ISO3</th>\n",
              "      <td>217</td>\n",
              "    </tr>\n",
              "    <tr>\n",
              "      <th>Country_ID</th>\n",
              "      <td>222</td>\n",
              "    </tr>\n",
              "  </tbody>\n",
              "</table>\n",
              "</div><br><label><b>dtype:</b> int64</label>"
            ]
          },
          "metadata": {},
          "execution_count": 37
        }
      ]
    },
    {
      "cell_type": "code",
      "source": [
        "# Save the DataFrame to a CSV file\n",
        "country_combined_df.to_csv(\"country_dimension.csv\", index=False)"
      ],
      "metadata": {
        "id": "awZ3o1uoyiaQ"
      },
      "execution_count": null,
      "outputs": []
    },
    {
      "cell_type": "markdown",
      "source": [
        "Dimension table Climate Transition Standard (CTS)"
      ],
      "metadata": {
        "id": "aFZ6cop7ywKR"
      }
    },
    {
      "cell_type": "code",
      "source": [
        "# Select specific columns\n",
        "cts_df1 = Environmental_Taxes[[,'CTS Code','CTS Name', 'CTS Full Descriptor']]\n",
        "cts_df2 = Environmental_Protection_Expenditures[['CTS Code','CTS Name', 'CTS Full Descriptor']]\n",
        "cts_df3 = Fossil_Fuel_Subsidies[['CTS Code','CTS Name', 'CTS Full Descriptor']]\n",
        "cts_df4 = Bilateral_Trade_in_Low_Carbon_Technology_Products[['CTS Code','CTS Name', 'CTS Full Descriptor']]\n",
        "cts_df5 = Green_Bonds[['CTS Code','CTS Name', 'CTS Full Descriptor']]\n",
        "cts_df6 = Carbon_Footprint_of_Bank_Loans[['CTS Code','CTS Name', 'CTS Full Descriptor']]\n",
        "\n",
        "# Combine them\n",
        "cts_combined_df = pd.concat([cts_df1,cts_df2,cts_df3,cts_df4,cts_df5], ignore_index=True).drop_duplicates()\n"
      ],
      "metadata": {
        "id": "Ja6L63hVyveD"
      },
      "execution_count": null,
      "outputs": []
    },
    {
      "cell_type": "code",
      "source": [
        "# Generate a unique ID based on hash of multiple columns\n",
        "cts_combined_df[\"CTS_ID\"] =  cts_combined_df.apply(lambda row: uuid.uuid5(uuid.NAMESPACE_DNS, f\"{row['CTS Code']}_{row['CTS Name']}_{row['CTS Full Descriptor']}\"), axis=1)\n",
        "cts_combined_df.count()"
      ],
      "metadata": {
        "colab": {
          "base_uri": "https://localhost:8080/",
          "height": 207
        },
        "id": "K4s9uuM-zt81",
        "outputId": "0e8abe82-e437-4ba2-a373-b44cec2587a8"
      },
      "execution_count": null,
      "outputs": [
        {
          "output_type": "execute_result",
          "data": {
            "text/plain": [
              "CTS Code               39\n",
              "CTS Name               39\n",
              "CTS Full Descriptor    39\n",
              "CTS_ID                 40\n",
              "dtype: int64"
            ],
            "text/html": [
              "<div>\n",
              "<style scoped>\n",
              "    .dataframe tbody tr th:only-of-type {\n",
              "        vertical-align: middle;\n",
              "    }\n",
              "\n",
              "    .dataframe tbody tr th {\n",
              "        vertical-align: top;\n",
              "    }\n",
              "\n",
              "    .dataframe thead th {\n",
              "        text-align: right;\n",
              "    }\n",
              "</style>\n",
              "<table border=\"1\" class=\"dataframe\">\n",
              "  <thead>\n",
              "    <tr style=\"text-align: right;\">\n",
              "      <th></th>\n",
              "      <th>0</th>\n",
              "    </tr>\n",
              "  </thead>\n",
              "  <tbody>\n",
              "    <tr>\n",
              "      <th>CTS Code</th>\n",
              "      <td>39</td>\n",
              "    </tr>\n",
              "    <tr>\n",
              "      <th>CTS Name</th>\n",
              "      <td>39</td>\n",
              "    </tr>\n",
              "    <tr>\n",
              "      <th>CTS Full Descriptor</th>\n",
              "      <td>39</td>\n",
              "    </tr>\n",
              "    <tr>\n",
              "      <th>CTS_ID</th>\n",
              "      <td>40</td>\n",
              "    </tr>\n",
              "  </tbody>\n",
              "</table>\n",
              "</div><br><label><b>dtype:</b> int64</label>"
            ]
          },
          "metadata": {},
          "execution_count": 39
        }
      ]
    },
    {
      "cell_type": "code",
      "source": [
        "# Save the DataFrame to a CSV file\n",
        "cts_combined_df.to_csv(\"cts_dimension.csv\", index=False)"
      ],
      "metadata": {
        "id": "evQEM7SM0W5T"
      },
      "execution_count": null,
      "outputs": []
    },
    {
      "cell_type": "markdown",
      "source": [
        "Unit Dimension table"
      ],
      "metadata": {
        "id": "-mMXzkny7jtU"
      }
    },
    {
      "cell_type": "code",
      "source": [
        "# Select specific columns\n",
        "unit_df1 = Environmental_Taxes[['Unit']]\n",
        "unit_df2 = Environmental_Protection_Expenditures[['Unit']]\n",
        "unit_df3 = Fossil_Fuel_Subsidies[['Unit']]\n",
        "unit_df4 = Bilateral_Trade_in_Low_Carbon_Technology_Products[['Unit']]\n",
        "unit_df5 = Green_Bonds[['Unit']]\n",
        "unit_df6 = Carbon_Footprint_of_Bank_Loans[['Unit']]\n",
        "\n",
        "# Combine them\n",
        "unit_combined_df = pd.concat([unit_df1,unit_df2,unit_df3,unit_df4,unit_df5], ignore_index=True).drop_duplicates()\n"
      ],
      "metadata": {
        "id": "iiLS9JnCBTb5"
      },
      "execution_count": null,
      "outputs": []
    },
    {
      "cell_type": "code",
      "source": [
        "# Generate a unique ID based on hash of multiple columns\n",
        "unit_combined_df[\"Unit_ID\"] =  unit_combined_df.apply(lambda row: uuid.uuid5(uuid.NAMESPACE_DNS, f\"{row['Unit']}\"), axis=1)\n",
        "unit_combined_df.count()"
      ],
      "metadata": {
        "colab": {
          "base_uri": "https://localhost:8080/",
          "height": 145
        },
        "id": "sCRL1l8UBtkQ",
        "outputId": "93d94982-5897-4da7-deec-c3101d57c7cd"
      },
      "execution_count": null,
      "outputs": [
        {
          "output_type": "execute_result",
          "data": {
            "text/plain": [
              "Unit       7\n",
              "Unit_ID    7\n",
              "dtype: int64"
            ],
            "text/html": [
              "<div>\n",
              "<style scoped>\n",
              "    .dataframe tbody tr th:only-of-type {\n",
              "        vertical-align: middle;\n",
              "    }\n",
              "\n",
              "    .dataframe tbody tr th {\n",
              "        vertical-align: top;\n",
              "    }\n",
              "\n",
              "    .dataframe thead th {\n",
              "        text-align: right;\n",
              "    }\n",
              "</style>\n",
              "<table border=\"1\" class=\"dataframe\">\n",
              "  <thead>\n",
              "    <tr style=\"text-align: right;\">\n",
              "      <th></th>\n",
              "      <th>0</th>\n",
              "    </tr>\n",
              "  </thead>\n",
              "  <tbody>\n",
              "    <tr>\n",
              "      <th>Unit</th>\n",
              "      <td>7</td>\n",
              "    </tr>\n",
              "    <tr>\n",
              "      <th>Unit_ID</th>\n",
              "      <td>7</td>\n",
              "    </tr>\n",
              "  </tbody>\n",
              "</table>\n",
              "</div><br><label><b>dtype:</b> int64</label>"
            ]
          },
          "metadata": {},
          "execution_count": 41
        }
      ]
    },
    {
      "cell_type": "code",
      "source": [
        "# Save the DataFrame to a CSV file\n",
        "unit_combined_df.to_csv(\"unit_dimension.csv\", index=False)"
      ],
      "metadata": {
        "id": "f8R_HgoeCB0U"
      },
      "execution_count": null,
      "outputs": []
    }
  ]
}